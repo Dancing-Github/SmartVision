{
 "cells": [
  {
   "cell_type": "markdown",
   "source": [
    "# 单卡GPU 进行 ChatGLM3-6B模型 LORA 高效微调\n",
    "本 Cookbook 将带领开发者使用 `AdvertiseGen` 对 ChatGLM3-6B 数据集进行 lora微调，使其具备专业的广告生成能力。\n",
    "\n",
    "## 硬件需求\n",
    "显存：24GB\n",
    "显卡架构：安培架构（推荐）\n",
    "内存：16GB"
   ],
   "metadata": {
    "collapsed": false
   },
   "id": "89b89f64d8f8053d"
  },
  {
   "cell_type": "markdown",
   "source": [
    "## 1. 准备数据集\n",
    "我们使用 AdvertiseGen 数据集来进行微调。从 [Google Drive](https://drive.google.com/file/d/13_vf0xRTQsyneRKdD1bZIr93vBGOczrk/view?usp=sharing) 或者 [Tsinghua Cloud](https://cloud.tsinghua.edu.cn/f/b3f119a008264b1cabd1/?dl=1) 下载处理好的 AdvertiseGen 数据集，将解压后的 AdvertiseGen 目录放到本目录的 `/data/` 下, 例如。\n",
    "> /media/zr/Data/Code/ChatGLM3/finetune_demo/data/AdvertiseGen\n",
    "\n",
    "接着，运行本代码来切割数据集"
   ],
   "metadata": {
    "collapsed": false
   },
   "id": "a7bd9a514ed09ea6"
  },
  {
   "cell_type": "code",
   "execution_count": 2,
   "outputs": [
    {
     "name": "stdout",
     "output_type": "stream",
     "text": [
      "/home/cike/HJS/funcCall/ChatGLM3-main/finetune_demo\n",
      "共15932, val1593.2, test1593.2, train12745.6\n"
     ]
    }
   ],
   "source": [
    "from pathlib import Path\n",
    "from combine_data import combine_data, analysis_data\n",
    "\n",
    "print(Path.cwd())\n",
    "\n",
    "# combine_data(Path('./data/raw'), Path('./data/fix'))\n",
    "\n",
    "analysis_data(Path('./data/fix'))\n"
   ],
   "metadata": {
    "collapsed": true,
    "ExecuteTime": {
     "end_time": "2024-03-31T16:43:03.136769300Z",
     "start_time": "2024-03-31T16:42:59.983110800Z"
    }
   },
   "id": "initial_id"
  },
  {
   "cell_type": "markdown",
   "source": [
    "## 2. 使用命令行开始微调,我们使用 lora 进行微调\n",
    "接着，我们仅需要将配置好的参数以命令行的形式传参给程序，就可以使用命令行进行高效微调，这里将 `/media/zr/Data/Code/ChatGLM3/venv/bin/python3` 换成你的 python3 的绝对路径以保证正常运行。"
   ],
   "metadata": {
    "collapsed": false
   },
   "id": "a1b7a99923349056"
  },
  {
   "cell_type": "code",
   "execution_count": 4,
   "outputs": [
    {
     "name": "stdout",
     "output_type": "stream",
     "text": [
      "/bin/bash: warning: setlocale: LC_ALL: cannot change locale (en_US.UTF-8)\r\n",
      "2024-04-01 00:28:08.721087: I tensorflow/core/util/port.cc:113] oneDNN custom operations are on. You may see slightly different numerical results due to floating-point round-off errors from different computation orders. To turn them off, set the environment variable `TF_ENABLE_ONEDNN_OPTS=0`.\r\n",
      "2024-04-01 00:28:08.759218: E external/local_xla/xla/stream_executor/cuda/cuda_dnn.cc:9261] Unable to register cuDNN factory: Attempting to register factory for plugin cuDNN when one has already been registered\r\n",
      "2024-04-01 00:28:08.759258: E external/local_xla/xla/stream_executor/cuda/cuda_fft.cc:607] Unable to register cuFFT factory: Attempting to register factory for plugin cuFFT when one has already been registered\r\n",
      "2024-04-01 00:28:08.760213: E external/local_xla/xla/stream_executor/cuda/cuda_blas.cc:1515] Unable to register cuBLAS factory: Attempting to register factory for plugin cuBLAS when one has already been registered\r\n",
      "2024-04-01 00:28:08.765958: I tensorflow/core/platform/cpu_feature_guard.cc:182] This TensorFlow binary is optimized to use available CPU instructions in performance-critical operations.\r\n",
      "To enable the following instructions: AVX2 AVX512F AVX512_VNNI FMA, in other operations, rebuild TensorFlow with the appropriate compiler flags.\r\n",
      "2024-04-01 00:28:09.780946: W tensorflow/compiler/tf2tensorrt/utils/py_utils.cc:38] TF-TRT Warning: Could not find TensorRT\r\n",
      "Loading checkpoint shards:   0%|                          | 0/7 [00:00<?, ?it/s]/home/cike/miniconda3/envs/wiseSight/lib/python3.11/site-packages/torch/_utils.py:831: UserWarning: TypedStorage is deprecated. It will be removed in the future and UntypedStorage will be the only storage class. This should only matter to you if you are using storages directly.  To access UntypedStorage directly, use tensor.untyped_storage() instead of tensor.storage()\r\n",
      "  return self.fget.__get__(instance, owner)()\r\n",
      "Loading checkpoint shards: 100%|██████████████████| 7/7 [00:04<00:00,  1.67it/s]\r\n",
      "trainable params: 1,949,696 || all params: 6,245,533,696 || trainable%: 0.031217444255383614\r\n",
      "--> Model\r\n",
      "\r\n",
      "--> model has 1.949696M params\r\n",
      "\r\n",
      "\u001B[31m╭─\u001B[0m\u001B[31m────────────────────\u001B[0m\u001B[31m \u001B[0m\u001B[1;31mTraceback \u001B[0m\u001B[1;2;31m(most recent call last)\u001B[0m\u001B[31m \u001B[0m\u001B[31m─────────────────────\u001B[0m\u001B[31m─╮\u001B[0m\r\n",
      "\u001B[31m│\u001B[0m \u001B[2;33m/home/cike/HJS/funcCall/ChatGLM3-main/finetune_demo/\u001B[0m\u001B[1;33mfinetune_hf.py\u001B[0m:\u001B[94m462\u001B[0m in    \u001B[31m│\u001B[0m\r\n",
      "\u001B[31m│\u001B[0m \u001B[92mmain\u001B[0m                                                                         \u001B[31m│\u001B[0m\r\n",
      "\u001B[31m│\u001B[0m                                                                              \u001B[31m│\u001B[0m\r\n",
      "\u001B[31m│\u001B[0m   \u001B[2m459 \u001B[0m):                                                                     \u001B[31m│\u001B[0m\r\n",
      "\u001B[31m│\u001B[0m   \u001B[2m460 \u001B[0m\u001B[2m│   \u001B[0mft_config = FinetuningConfig.from_file(config_file)                \u001B[31m│\u001B[0m\r\n",
      "\u001B[31m│\u001B[0m   \u001B[2m461 \u001B[0m\u001B[2m│   \u001B[0mtokenizer, model = load_tokenizer_and_model(model_dir, peft_config \u001B[31m│\u001B[0m\r\n",
      "\u001B[31m│\u001B[0m \u001B[31m❱ \u001B[0m462 \u001B[2m│   \u001B[0mdata_manager = DataManager(data_dir, ft_config.data_config)        \u001B[31m│\u001B[0m\r\n",
      "\u001B[31m│\u001B[0m   \u001B[2m463 \u001B[0m\u001B[2m│   \u001B[0m                                                                   \u001B[31m│\u001B[0m\r\n",
      "\u001B[31m│\u001B[0m   \u001B[2m464 \u001B[0m\u001B[2m│   \u001B[0mtrain_dataset = data_manager.get_dataset(                          \u001B[31m│\u001B[0m\r\n",
      "\u001B[31m│\u001B[0m   \u001B[2m465 \u001B[0m\u001B[2m│   │   \u001B[0mSplit.TRAIN,                                                   \u001B[31m│\u001B[0m\r\n",
      "\u001B[31m│\u001B[0m                                                                              \u001B[31m│\u001B[0m\r\n",
      "\u001B[31m│\u001B[0m \u001B[2;33m/home/cike/HJS/funcCall/ChatGLM3-main/finetune_demo/\u001B[0m\u001B[1;33mfinetune_hf.py\u001B[0m:\u001B[94m238\u001B[0m in    \u001B[31m│\u001B[0m\r\n",
      "\u001B[31m│\u001B[0m \u001B[92m__init__\u001B[0m                                                                     \u001B[31m│\u001B[0m\r\n",
      "\u001B[31m│\u001B[0m                                                                              \u001B[31m│\u001B[0m\r\n",
      "\u001B[31m│\u001B[0m   \u001B[2m235 \u001B[0m\u001B[2m│   \u001B[0m\u001B[94mdef\u001B[0m \u001B[92m__init__\u001B[0m(\u001B[96mself\u001B[0m, data_dir: \u001B[96mstr\u001B[0m, data_config: DataConfig):        \u001B[31m│\u001B[0m\r\n",
      "\u001B[31m│\u001B[0m   \u001B[2m236 \u001B[0m\u001B[2m│   │   \u001B[0m\u001B[96mself\u001B[0m._num_proc = data_config.num_proc                          \u001B[31m│\u001B[0m\r\n",
      "\u001B[31m│\u001B[0m   \u001B[2m237 \u001B[0m\u001B[2m│   │   \u001B[0m                                                               \u001B[31m│\u001B[0m\r\n",
      "\u001B[31m│\u001B[0m \u001B[31m❱ \u001B[0m238 \u001B[2m│   │   \u001B[0m\u001B[96mself\u001B[0m._dataset_dct = _load_datasets(                            \u001B[31m│\u001B[0m\r\n",
      "\u001B[31m│\u001B[0m   \u001B[2m239 \u001B[0m\u001B[2m│   │   │   \u001B[0m_resolve_path(data_dir),                                   \u001B[31m│\u001B[0m\r\n",
      "\u001B[31m│\u001B[0m   \u001B[2m240 \u001B[0m\u001B[2m│   │   │   \u001B[0mdata_config.data_format,                                   \u001B[31m│\u001B[0m\r\n",
      "\u001B[31m│\u001B[0m   \u001B[2m241 \u001B[0m\u001B[2m│   │   │   \u001B[0mdata_config.data_files,                                    \u001B[31m│\u001B[0m\r\n",
      "\u001B[31m│\u001B[0m                                                                              \u001B[31m│\u001B[0m\r\n",
      "\u001B[31m│\u001B[0m \u001B[2;33m/home/cike/HJS/funcCall/ChatGLM3-main/finetune_demo/\u001B[0m\u001B[1;33mfinetune_hf.py\u001B[0m:\u001B[94m221\u001B[0m in    \u001B[31m│\u001B[0m\r\n",
      "\u001B[31m│\u001B[0m \u001B[92m_load_datasets\u001B[0m                                                               \u001B[31m│\u001B[0m\r\n",
      "\u001B[31m│\u001B[0m                                                                              \u001B[31m│\u001B[0m\r\n",
      "\u001B[31m│\u001B[0m   \u001B[2m218 \u001B[0m\u001B[2m│   │   \u001B[0mnum_proc: Optional[\u001B[96mint\u001B[0m],                                       \u001B[31m│\u001B[0m\r\n",
      "\u001B[31m│\u001B[0m   \u001B[2m219 \u001B[0m) -> DatasetDict:                                                      \u001B[31m│\u001B[0m\r\n",
      "\u001B[31m│\u001B[0m   \u001B[2m220 \u001B[0m\u001B[2m│   \u001B[0m\u001B[94mif\u001B[0m data_format \u001B[95min\u001B[0m (\u001B[33m'\u001B[0m\u001B[33m.csv\u001B[0m\u001B[33m'\u001B[0m, \u001B[33m'\u001B[0m\u001B[33m.json\u001B[0m\u001B[33m'\u001B[0m, \u001B[33m'\u001B[0m\u001B[33m.jsonl\u001B[0m\u001B[33m'\u001B[0m):                     \u001B[31m│\u001B[0m\r\n",
      "\u001B[31m│\u001B[0m \u001B[31m❱ \u001B[0m221 \u001B[2m│   │   \u001B[0mdataset_dct = load_dataset(                                    \u001B[31m│\u001B[0m\r\n",
      "\u001B[31m│\u001B[0m   \u001B[2m222 \u001B[0m\u001B[2m│   │   │   \u001B[0mdata_format[\u001B[94m1\u001B[0m:],                                           \u001B[31m│\u001B[0m\r\n",
      "\u001B[31m│\u001B[0m   \u001B[2m223 \u001B[0m\u001B[2m│   │   │   \u001B[0mdata_dir=data_dir,                                         \u001B[31m│\u001B[0m\r\n",
      "\u001B[31m│\u001B[0m   \u001B[2m224 \u001B[0m\u001B[2m│   │   │   \u001B[0mdata_files=data_files,                                     \u001B[31m│\u001B[0m\r\n",
      "\u001B[31m│\u001B[0m                                                                              \u001B[31m│\u001B[0m\r\n",
      "\u001B[31m│\u001B[0m \u001B[2;33m/home/cike/miniconda3/envs/wiseSight/lib/python3.11/site-packages/datasets/\u001B[0m\u001B[1;33ml\u001B[0m \u001B[31m│\u001B[0m\r\n",
      "\u001B[31m│\u001B[0m \u001B[1;33moad.py\u001B[0m:\u001B[94m2556\u001B[0m in \u001B[92mload_dataset\u001B[0m                                                  \u001B[31m│\u001B[0m\r\n",
      "\u001B[31m│\u001B[0m                                                                              \u001B[31m│\u001B[0m\r\n",
      "\u001B[31m│\u001B[0m   \u001B[2m2553 \u001B[0m\u001B[2m│   \u001B[0m)                                                                 \u001B[31m│\u001B[0m\r\n",
      "\u001B[31m│\u001B[0m   \u001B[2m2554 \u001B[0m\u001B[2m│   \u001B[0m                                                                  \u001B[31m│\u001B[0m\r\n",
      "\u001B[31m│\u001B[0m   \u001B[2m2555 \u001B[0m\u001B[2m│   \u001B[0m\u001B[2m# Create a dataset builder\u001B[0m                                        \u001B[31m│\u001B[0m\r\n",
      "\u001B[31m│\u001B[0m \u001B[31m❱ \u001B[0m2556 \u001B[2m│   \u001B[0mbuilder_instance = load_dataset_builder(                          \u001B[31m│\u001B[0m\r\n",
      "\u001B[31m│\u001B[0m   \u001B[2m2557 \u001B[0m\u001B[2m│   │   \u001B[0mpath=path,                                                    \u001B[31m│\u001B[0m\r\n",
      "\u001B[31m│\u001B[0m   \u001B[2m2558 \u001B[0m\u001B[2m│   │   \u001B[0mname=name,                                                    \u001B[31m│\u001B[0m\r\n",
      "\u001B[31m│\u001B[0m   \u001B[2m2559 \u001B[0m\u001B[2m│   │   \u001B[0mdata_dir=data_dir,                                            \u001B[31m│\u001B[0m\r\n",
      "\u001B[31m│\u001B[0m                                                                              \u001B[31m│\u001B[0m\r\n",
      "\u001B[31m│\u001B[0m \u001B[2;33m/home/cike/miniconda3/envs/wiseSight/lib/python3.11/site-packages/datasets/\u001B[0m\u001B[1;33ml\u001B[0m \u001B[31m│\u001B[0m\r\n",
      "\u001B[31m│\u001B[0m \u001B[1;33moad.py\u001B[0m:\u001B[94m2228\u001B[0m in \u001B[92mload_dataset_builder\u001B[0m                                          \u001B[31m│\u001B[0m\r\n",
      "\u001B[31m│\u001B[0m                                                                              \u001B[31m│\u001B[0m\r\n",
      "\u001B[31m│\u001B[0m   \u001B[2m2225 \u001B[0m\u001B[2m│   \u001B[0m\u001B[94mif\u001B[0m storage_options \u001B[95mis\u001B[0m \u001B[95mnot\u001B[0m \u001B[94mNone\u001B[0m:                                   \u001B[31m│\u001B[0m\r\n",
      "\u001B[31m│\u001B[0m   \u001B[2m2226 \u001B[0m\u001B[2m│   │   \u001B[0mdownload_config = download_config.copy() \u001B[94mif\u001B[0m download_config \u001B[94me\u001B[0m \u001B[31m│\u001B[0m\r\n",
      "\u001B[31m│\u001B[0m   \u001B[2m2227 \u001B[0m\u001B[2m│   │   \u001B[0mdownload_config.storage_options.update(storage_options)       \u001B[31m│\u001B[0m\r\n",
      "\u001B[31m│\u001B[0m \u001B[31m❱ \u001B[0m2228 \u001B[2m│   \u001B[0mdataset_module = dataset_module_factory(                          \u001B[31m│\u001B[0m\r\n",
      "\u001B[31m│\u001B[0m   \u001B[2m2229 \u001B[0m\u001B[2m│   │   \u001B[0mpath,                                                         \u001B[31m│\u001B[0m\r\n",
      "\u001B[31m│\u001B[0m   \u001B[2m2230 \u001B[0m\u001B[2m│   │   \u001B[0mrevision=revision,                                            \u001B[31m│\u001B[0m\r\n",
      "\u001B[31m│\u001B[0m   \u001B[2m2231 \u001B[0m\u001B[2m│   │   \u001B[0mdownload_config=download_config,                              \u001B[31m│\u001B[0m\r\n",
      "\u001B[31m│\u001B[0m                                                                              \u001B[31m│\u001B[0m\r\n",
      "\u001B[31m│\u001B[0m \u001B[2;33m/home/cike/miniconda3/envs/wiseSight/lib/python3.11/site-packages/datasets/\u001B[0m\u001B[1;33ml\u001B[0m \u001B[31m│\u001B[0m\r\n",
      "\u001B[31m│\u001B[0m \u001B[1;33moad.py\u001B[0m:\u001B[94m1768\u001B[0m in \u001B[92mdataset_module_factory\u001B[0m                                        \u001B[31m│\u001B[0m\r\n",
      "\u001B[31m│\u001B[0m                                                                              \u001B[31m│\u001B[0m\r\n",
      "\u001B[31m│\u001B[0m   \u001B[2m1765 \u001B[0m\u001B[2m│   │   │   \u001B[0mdata_files=data_files,                                    \u001B[31m│\u001B[0m\r\n",
      "\u001B[31m│\u001B[0m   \u001B[2m1766 \u001B[0m\u001B[2m│   │   │   \u001B[0mdownload_config=download_config,                          \u001B[31m│\u001B[0m\r\n",
      "\u001B[31m│\u001B[0m   \u001B[2m1767 \u001B[0m\u001B[2m│   │   │   \u001B[0mdownload_mode=download_mode,                              \u001B[31m│\u001B[0m\r\n",
      "\u001B[31m│\u001B[0m \u001B[31m❱ \u001B[0m1768 \u001B[2m│   │   \u001B[0m).get_module()                                                \u001B[31m│\u001B[0m\r\n",
      "\u001B[31m│\u001B[0m   \u001B[2m1769 \u001B[0m\u001B[2m│   \u001B[0m\u001B[2m# Try locally\u001B[0m                                                     \u001B[31m│\u001B[0m\r\n",
      "\u001B[31m│\u001B[0m   \u001B[2m1770 \u001B[0m\u001B[2m│   \u001B[0m\u001B[94melif\u001B[0m path.endswith(filename):                                     \u001B[31m│\u001B[0m\r\n",
      "\u001B[31m│\u001B[0m   \u001B[2m1771 \u001B[0m\u001B[2m│   │   \u001B[0m\u001B[94mif\u001B[0m os.path.isfile(path):                                      \u001B[31m│\u001B[0m\r\n",
      "\u001B[31m│\u001B[0m                                                                              \u001B[31m│\u001B[0m\r\n",
      "\u001B[31m│\u001B[0m \u001B[2;33m/home/cike/miniconda3/envs/wiseSight/lib/python3.11/site-packages/datasets/\u001B[0m\u001B[1;33ml\u001B[0m \u001B[31m│\u001B[0m\r\n",
      "\u001B[31m│\u001B[0m \u001B[1;33moad.py\u001B[0m:\u001B[94m1134\u001B[0m in \u001B[92mget_module\u001B[0m                                                    \u001B[31m│\u001B[0m\r\n",
      "\u001B[31m│\u001B[0m                                                                              \u001B[31m│\u001B[0m\r\n",
      "\u001B[31m│\u001B[0m   \u001B[2m1131 \u001B[0m\u001B[2m│   \u001B[0m\u001B[94mdef\u001B[0m \u001B[92mget_module\u001B[0m(\u001B[96mself\u001B[0m) -> DatasetModule:                            \u001B[31m│\u001B[0m\r\n",
      "\u001B[31m│\u001B[0m   \u001B[2m1132 \u001B[0m\u001B[2m│   │   \u001B[0mbase_path = Path(\u001B[96mself\u001B[0m.data_dir \u001B[95mor\u001B[0m \u001B[33m\"\u001B[0m\u001B[33m\"\u001B[0m).expanduser().resolve(). \u001B[31m│\u001B[0m\r\n",
      "\u001B[31m│\u001B[0m   \u001B[2m1133 \u001B[0m\u001B[2m│   │   \u001B[0mpatterns = sanitize_patterns(\u001B[96mself\u001B[0m.data_files) \u001B[94mif\u001B[0m \u001B[96mself\u001B[0m.data_fi \u001B[31m│\u001B[0m\r\n",
      "\u001B[31m│\u001B[0m \u001B[31m❱ \u001B[0m1134 \u001B[2m│   │   \u001B[0mdata_files = DataFilesDict.from_patterns(                     \u001B[31m│\u001B[0m\r\n",
      "\u001B[31m│\u001B[0m   \u001B[2m1135 \u001B[0m\u001B[2m│   │   │   \u001B[0mpatterns,                                                 \u001B[31m│\u001B[0m\r\n",
      "\u001B[31m│\u001B[0m   \u001B[2m1136 \u001B[0m\u001B[2m│   │   │   \u001B[0mdownload_config=\u001B[96mself\u001B[0m.download_config,                     \u001B[31m│\u001B[0m\r\n",
      "\u001B[31m│\u001B[0m   \u001B[2m1137 \u001B[0m\u001B[2m│   │   │   \u001B[0mbase_path=base_path,                                      \u001B[31m│\u001B[0m\r\n",
      "\u001B[31m│\u001B[0m                                                                              \u001B[31m│\u001B[0m\r\n",
      "\u001B[31m│\u001B[0m \u001B[2;33m/home/cike/miniconda3/envs/wiseSight/lib/python3.11/site-packages/datasets/\u001B[0m\u001B[1;33md\u001B[0m \u001B[31m│\u001B[0m\r\n",
      "\u001B[31m│\u001B[0m \u001B[1;33mata_files.py\u001B[0m:\u001B[94m700\u001B[0m in \u001B[92mfrom_patterns\u001B[0m                                            \u001B[31m│\u001B[0m\r\n",
      "\u001B[31m│\u001B[0m                                                                              \u001B[31m│\u001B[0m\r\n",
      "\u001B[31m│\u001B[0m   \u001B[2m697 \u001B[0m\u001B[2m│   │   \u001B[0mout = \u001B[96mcls\u001B[0m()                                                    \u001B[31m│\u001B[0m\r\n",
      "\u001B[31m│\u001B[0m   \u001B[2m698 \u001B[0m\u001B[2m│   │   \u001B[0m\u001B[94mfor\u001B[0m key, patterns_for_key \u001B[95min\u001B[0m patterns.items():                 \u001B[31m│\u001B[0m\r\n",
      "\u001B[31m│\u001B[0m   \u001B[2m699 \u001B[0m\u001B[2m│   │   │   \u001B[0mout[key] = (                                               \u001B[31m│\u001B[0m\r\n",
      "\u001B[31m│\u001B[0m \u001B[31m❱ \u001B[0m700 \u001B[2m│   │   │   │   \u001B[0mDataFilesList.from_patterns(                           \u001B[31m│\u001B[0m\r\n",
      "\u001B[31m│\u001B[0m   \u001B[2m701 \u001B[0m\u001B[2m│   │   │   │   │   \u001B[0mpatterns_for_key,                                  \u001B[31m│\u001B[0m\r\n",
      "\u001B[31m│\u001B[0m   \u001B[2m702 \u001B[0m\u001B[2m│   │   │   │   │   \u001B[0mbase_path=base_path,                               \u001B[31m│\u001B[0m\r\n",
      "\u001B[31m│\u001B[0m   \u001B[2m703 \u001B[0m\u001B[2m│   │   │   │   │   \u001B[0mallowed_extensions=allowed_extensions,             \u001B[31m│\u001B[0m\r\n",
      "\u001B[31m│\u001B[0m                                                                              \u001B[31m│\u001B[0m\r\n",
      "\u001B[31m│\u001B[0m \u001B[2;33m/home/cike/miniconda3/envs/wiseSight/lib/python3.11/site-packages/datasets/\u001B[0m\u001B[1;33md\u001B[0m \u001B[31m│\u001B[0m\r\n",
      "\u001B[31m│\u001B[0m \u001B[1;33mata_files.py\u001B[0m:\u001B[94m605\u001B[0m in \u001B[92mfrom_patterns\u001B[0m                                            \u001B[31m│\u001B[0m\r\n",
      "\u001B[31m│\u001B[0m                                                                              \u001B[31m│\u001B[0m\r\n",
      "\u001B[31m│\u001B[0m   \u001B[2m602 \u001B[0m\u001B[2m│   │   \u001B[0m\u001B[94mfor\u001B[0m pattern \u001B[95min\u001B[0m patterns:                                       \u001B[31m│\u001B[0m\r\n",
      "\u001B[31m│\u001B[0m   \u001B[2m603 \u001B[0m\u001B[2m│   │   │   \u001B[0m\u001B[94mtry\u001B[0m:                                                       \u001B[31m│\u001B[0m\r\n",
      "\u001B[31m│\u001B[0m   \u001B[2m604 \u001B[0m\u001B[2m│   │   │   │   \u001B[0mdata_files.extend(                                     \u001B[31m│\u001B[0m\r\n",
      "\u001B[31m│\u001B[0m \u001B[31m❱ \u001B[0m605 \u001B[2m│   │   │   │   │   \u001B[0mresolve_pattern(                                   \u001B[31m│\u001B[0m\r\n",
      "\u001B[31m│\u001B[0m   \u001B[2m606 \u001B[0m\u001B[2m│   │   │   │   │   │   \u001B[0mpattern,                                       \u001B[31m│\u001B[0m\r\n",
      "\u001B[31m│\u001B[0m   \u001B[2m607 \u001B[0m\u001B[2m│   │   │   │   │   │   \u001B[0mbase_path=base_path,                           \u001B[31m│\u001B[0m\r\n",
      "\u001B[31m│\u001B[0m   \u001B[2m608 \u001B[0m\u001B[2m│   │   │   │   │   │   \u001B[0mallowed_extensions=allowed_extensions,         \u001B[31m│\u001B[0m\r\n",
      "\u001B[31m│\u001B[0m                                                                              \u001B[31m│\u001B[0m\r\n",
      "\u001B[31m│\u001B[0m \u001B[2;33m/home/cike/miniconda3/envs/wiseSight/lib/python3.11/site-packages/datasets/\u001B[0m\u001B[1;33md\u001B[0m \u001B[31m│\u001B[0m\r\n",
      "\u001B[31m│\u001B[0m \u001B[1;33mata_files.py\u001B[0m:\u001B[94m393\u001B[0m in \u001B[92mresolve_pattern\u001B[0m                                          \u001B[31m│\u001B[0m\r\n",
      "\u001B[31m│\u001B[0m                                                                              \u001B[31m│\u001B[0m\r\n",
      "\u001B[31m│\u001B[0m   \u001B[2m390 \u001B[0m\u001B[2m│   │   \u001B[0merror_msg = \u001B[33mf\u001B[0m\u001B[33m\"\u001B[0m\u001B[33mUnable to find \u001B[0m\u001B[33m'\u001B[0m\u001B[33m{\u001B[0mpattern\u001B[33m}\u001B[0m\u001B[33m'\u001B[0m\u001B[33m\"\u001B[0m                      \u001B[31m│\u001B[0m\r\n",
      "\u001B[31m│\u001B[0m   \u001B[2m391 \u001B[0m\u001B[2m│   │   \u001B[0m\u001B[94mif\u001B[0m allowed_extensions \u001B[95mis\u001B[0m \u001B[95mnot\u001B[0m \u001B[94mNone\u001B[0m:                             \u001B[31m│\u001B[0m\r\n",
      "\u001B[31m│\u001B[0m   \u001B[2m392 \u001B[0m\u001B[2m│   │   │   \u001B[0merror_msg += \u001B[33mf\u001B[0m\u001B[33m\"\u001B[0m\u001B[33m with any supported extension \u001B[0m\u001B[33m{\u001B[0m\u001B[96mlist\u001B[0m(allowed \u001B[31m│\u001B[0m\r\n",
      "\u001B[31m│\u001B[0m \u001B[31m❱ \u001B[0m393 \u001B[2m│   │   \u001B[0m\u001B[94mraise\u001B[0m \u001B[96mFileNotFoundError\u001B[0m(error_msg)                             \u001B[31m│\u001B[0m\r\n",
      "\u001B[31m│\u001B[0m   \u001B[2m394 \u001B[0m\u001B[2m│   \u001B[0m\u001B[94mreturn\u001B[0m out                                                         \u001B[31m│\u001B[0m\r\n",
      "\u001B[31m│\u001B[0m   \u001B[2m395 \u001B[0m                                                                       \u001B[31m│\u001B[0m\r\n",
      "\u001B[31m│\u001B[0m   \u001B[2m396 \u001B[0m                                                                       \u001B[31m│\u001B[0m\r\n",
      "\u001B[31m╰──────────────────────────────────────────────────────────────────────────────╯\u001B[0m\r\n",
      "\u001B[1;91mFileNotFoundError: \u001B[0mUnable to find \r\n",
      "\u001B[32m'/home/cike/HJS/funcCall/ChatGLM3-main/finetune_demo/data/fix/train.json'\u001B[0m\r\n"
     ]
    }
   ],
   "source": [
    "!CUDA_VISIBLE_DEVICES=1 /home/cike/miniconda3/envs/wiseSight/bin/python3 finetune_hf.py ./data/fix /home/cike/glm_and_vlm/chatglm3-6b  configs/lora.yaml"
   ],
   "metadata": {
    "collapsed": false,
    "ExecuteTime": {
     "end_time": "2024-03-31T16:28:19.378187600Z",
     "start_time": "2024-03-31T16:28:04.596647300Z"
    }
   },
   "id": "17c87410a24d844f"
  },
  {
   "cell_type": "markdown",
   "source": [
    "## 3. 使用微调的数据集进行推理\n",
    "在完成微调任务之后，我们可以查看到 `output` 文件夹下多了很多个`checkpoint-*`的文件夹，这些文件夹代表了训练的轮数。\n",
    "我们选择最后一轮的微调权重，并使用inference进行导入。"
   ],
   "metadata": {
    "collapsed": false
   },
   "id": "d9418f6c5c264601"
  },
  {
   "cell_type": "code",
   "execution_count": 6,
   "outputs": [
    {
     "name": "stdout",
     "output_type": "stream",
     "text": [
      "checkpoint-1000  checkpoint-2000  checkpoint-3000\r\n",
      "checkpoint-1500  checkpoint-2500  checkpoint-500\r\n"
     ]
    }
   ],
   "source": [
    "!ls output/"
   ],
   "metadata": {
    "collapsed": false,
    "ExecuteTime": {
     "end_time": "2024-01-18T07:03:19.390123Z",
     "start_time": "2024-01-18T07:03:19.246666Z"
    }
   },
   "id": "3f22b735175e1c0d"
  },
  {
   "cell_type": "code",
   "execution_count": 9,
   "outputs": [
    {
     "name": "stdout",
     "output_type": "stream",
     "text": [
      "Loading checkpoint shards: 100%|██████████████████| 7/7 [00:24<00:00,  3.50s/it]\r\n",
      "这款网纱拼接的连衣裙，采用不规则的木耳边压褶设计，打造出了个性十足的不规则裙摆，轻松穿出时尚性感。腰部的木耳边拉链套头设计，方便穿脱，又可以修饰腰部线条，显得更加精致。下摆采用百褶设计，修饰腿型，显瘦又显高。\r\n"
     ]
    }
   ],
   "source": [
    "!CUDA_VISIBLE_DEVICES=1 /home/cike/miniconda3/envs/wiseSight/bin/python3 inference_hf.py ./output/checkpoint-3000/ --prompt \"今天天气如何\""
   ],
   "metadata": {
    "collapsed": false,
    "ExecuteTime": {
     "end_time": "2024-01-18T07:08:13.616364Z",
     "start_time": "2024-01-18T07:07:07.346906Z"
    }
   },
   "id": "5060015c24e97ae"
  },
  {
   "cell_type": "markdown",
   "source": [
    "## 4. 总结\n",
    "到此位置，我们就完成了使用单张 GPU Lora 来微调 ChatGLM3-6B 模型，使其能生产出更好的广告。\n",
    "在本章节中，你将会学会：\n",
    "+ 如何使用模型进行 Lora 微调\n",
    "+ 微调数据集的准备和对齐\n",
    "+ 使用微调的模型进行推理"
   ],
   "metadata": {
    "collapsed": false
   },
   "id": "18cd83087f096094"
  }
 ],
 "metadata": {
  "kernelspec": {
   "display_name": "Python 3",
   "language": "python",
   "name": "python3"
  },
  "language_info": {
   "codemirror_mode": {
    "name": "ipython",
    "version": 2
   },
   "file_extension": ".py",
   "mimetype": "text/x-python",
   "name": "python",
   "nbconvert_exporter": "python",
   "pygments_lexer": "ipython2",
   "version": "2.7.6"
  }
 },
 "nbformat": 4,
 "nbformat_minor": 5
}
